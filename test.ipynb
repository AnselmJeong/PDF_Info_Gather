{
 "cells": [
  {
   "cell_type": "code",
   "execution_count": 4,
   "metadata": {},
   "outputs": [],
   "source": [
    "from db import set_db_name\n",
    "from aggregate_snippers import (\n",
    "    get_theme_items_from_db,\n",
    "    get_found_themes,\n",
    "    get_or_create_aggregated_themes,\n",
    "    aggregate_themes,\n",
    "    find_item_indices,\n",
    "    process_LLM_output,\n",
    ")\n"
   ]
  },
  {
   "cell_type": "code",
   "execution_count": 2,
   "metadata": {},
   "outputs": [
    {
     "data": {
      "text/plain": [
       "{'themes': [{'theme': 'Prevalence of Obsessive-Compulsive Symptoms (OCS) in Schizophrenia',\n",
       "   'items': ['71. Prevalence of Obsessive-Compulsive Symptoms (OCS) in Schizophrenia',\n",
       "    '77. Prevalence of Obsessive-Compulsive Symptoms (OCS) in Schizophrenia',\n",
       "    '82. Definition and Prevalence of Obsessive-Compulsive Symptoms (OCS) in Schizophrenia',\n",
       "    '90. Prevalence of Obsessive-Compulsive Symptoms (OCS) and Disorder (OCD) in Schizophrenia',\n",
       "    '129. Prevalence of OCS and OCD in Schizophrenia',\n",
       "    '133. Prevalence of Obsessive-Compulsive Symptoms (OCS) in Schizophrenia',\n",
       "    '143. Definition and Prevalence of Obsessive-Compulsive Symptoms (OCS) in Schizophrenia',\n",
       "    '154. Prevalence of Obsessive-Compulsive Symptoms (OCS) in Schizophrenia',\n",
       "    '166. Prevalence of Obsessive-Compulsive Symptoms (OCS) in Schizophrenia',\n",
       "    '184. Prevalence of Obsessive-Compulsive Symptoms (OCS) in Schizophrenia'],\n",
       "   'item_indices': [71, 77, 82, 90, 129, 133, 143, 154, 166, 184]},\n",
       "  {'theme': 'Clozapine-Induced OCS Mechanism and Management',\n",
       "   'items': ['78. Clozapine-Induced Onset of Obsessive-Compulsive Symptoms',\n",
       "    '80. Pathogenetic Mechanisms of OCS Induction by Clozapine',\n",
       "    '91. Mechanism of Clozapine-Induced OCS/OCD',\n",
       "    '122. Clozapine-induced OCS Mechanism',\n",
       "    '134. Mechanism of Clozapine-Induced OCS',\n",
       "    \"155. Clozapine's Mechanism in Inducing OCS\",\n",
       "    '186. Mechanisms of Clozapine-Induced OCS'],\n",
       "   'item_indices': [78, 80, 91, 122, 134, 155, 186]},\n",
       "  {'theme': 'Clozapine and OCS Severity',\n",
       "   'items': ['79. Correlation Between Clozapine Treatment and OCS Severity',\n",
       "    '88. Prevalence of OCS Before and After Clozapine Initiation',\n",
       "    '89. Impact of Clozapine on OCS',\n",
       "    '132. Impact of Clozapine Dose on OCS and OCD',\n",
       "    '139. Impact of Clozapine Dose on OCS Severity',\n",
       "    '135. Prevalence of Clozapine-Associated OCS',\n",
       "    '136. Severity of Clozapine-Associated OCS'],\n",
       "   'item_indices': [79, 88, 89, 132, 139, 135, 136]},\n",
       "  {'theme': 'Management of Clozapine-Associated OCS',\n",
       "   'items': ['93. Course and Management of OCS/OCD Induced by Clozapine',\n",
       "    '137. Management Strategies for Clozapine-Associated OCS',\n",
       "    '141. Management of Clozapine-Associated OCS',\n",
       "    '138. Effectiveness of Antidepressants in Managing Clozapine-Associated OCS',\n",
       "    '142. Non-Pharmacological Treatments for Clozapine-Associated OCS'],\n",
       "   'item_indices': [93, 137, 141, 138, 142]},\n",
       "  {'theme': 'Clozapine Treatment and Comorbidities',\n",
       "   'items': ['72. OCS and Clozapine Treatment',\n",
       "    '83. Obsessive-Compulsive Symptoms (OCS) and Clozapine Treatment',\n",
       "    '86. Pre-existing OCS and Clozapine Treatment',\n",
       "    '85. Complex Relationship Between Clozapine and OCS',\n",
       "    '92. De Novo Emergence of OCS/OCD with Clozapine'],\n",
       "   'item_indices': [72, 83, 86, 85, 92]},\n",
       "  {'theme': 'Assessing the Impact of OCS',\n",
       "   'items': ['100. OCS and General Functioning',\n",
       "    '101. Impact of OCS on Subjective Wellbeing',\n",
       "    '96. Impact of OCS on Wellbeing Independently of Depression and Psychosis',\n",
       "    '187. Impact of Clozapine-Induced OCS on Disability'],\n",
       "   'item_indices': [100, 101, 96, 187]},\n",
       "  {'theme': 'General Topics on Obsessive-Compulsive Symptoms',\n",
       "   'items': ['73. Symptom Profile Differences Between OCD and Schizophrenia with OCS',\n",
       "    '74. Impact of Anxiety on OCS',\n",
       "    '75. Relationship Between OCS and Psychiatric Severity',\n",
       "    '84. Risk Factors for Developing De Novo OCS',\n",
       "    '102. Risk Factors for Developing OCS',\n",
       "    '127. OCS in Schizophrenia',\n",
       "    '145. OCD Symptoms and Severity',\n",
       "    '148. Temporal Relationship Between OCD and Schizophrenia Symptoms',\n",
       "    '149. Treatment Response to SSRIs',\n",
       "    '150. Clozapine and OCD',\n",
       "    '160. Complex Serotonin-Dopamine Mechanisms',\n",
       "    '162. Role of Psychosis in Obsessive Thoughts',\n",
       "    '163. Effect of Clozapine Load on Checking Compulsions',\n",
       "    '168. Challenges in Treating OCS in Schizophrenia',\n",
       "    '169. CBT for OCS and Schizophrenia'],\n",
       "   'item_indices': [73,\n",
       "    74,\n",
       "    75,\n",
       "    84,\n",
       "    102,\n",
       "    127,\n",
       "    145,\n",
       "    148,\n",
       "    149,\n",
       "    150,\n",
       "    160,\n",
       "    162,\n",
       "    163,\n",
       "    168,\n",
       "    169]},\n",
       "  {'theme': 'Cognitive and Genetic Factors in OCS',\n",
       "   'items': ['156. Role of Dopamine in Clozapine-Induced OCS',\n",
       "    '157. Genetic Factors in Clozapine-Induced OCS',\n",
       "    '174. Prevalence of OC Symptoms in Schizophrenia',\n",
       "    '175. Role of Glutamate in OCD Pathophysiology',\n",
       "    '176. Association of SLC1A1 with OCD',\n",
       "    '177. Association of GRIN2B with OCD',\n",
       "    '178. Association of GRIK2 with OCD',\n",
       "    '179. Interaction Between SLC1A1 and GRIN2B',\n",
       "    '180. Association of SLC1A1 Polymorphism with OCD',\n",
       "    '181. Association of GRIN2B Polymorphism with OCD',\n",
       "    '182. Association of GRIK2 Polymorphism with OCD',\n",
       "    '184. Overall Study Findings'],\n",
       "   'item_indices': [156,\n",
       "    157,\n",
       "    174,\n",
       "    175,\n",
       "    176,\n",
       "    177,\n",
       "    178,\n",
       "    179,\n",
       "    180,\n",
       "    181,\n",
       "    182,\n",
       "    184]},\n",
       "  {'theme': 'Clinician Awareness and Recognition of OCS',\n",
       "   'items': ['97. Under-recognition of OCS Due to Ego-Syntonic Nature',\n",
       "    '99. Clinician Awareness and Reporting of OCS'],\n",
       "   'item_indices': [97, 99]},\n",
       "  {'theme': 'Pharmacodynamics and Pharmacokinetics of Clozapine',\n",
       "   'items': [\"104. Clozapine's Pharmacodynamics and Mechanism of Action\",\n",
       "    \"105. Clozapine's Pharmacokinetics and Metabolism\",\n",
       "    \"106. Clozapine's Variable Pharmacokinetics\",\n",
       "    \"107. Clozapine's Therapeutic Drug Monitoring\",\n",
       "    '108. Clozapine and Cardiovascular Effects',\n",
       "    '109. Clozapine and Neurological Effects',\n",
       "    '110. Clozapine and Metabolic Effects',\n",
       "    '111. Clozapine and Extrapyramidal Symptoms',\n",
       "    '112. Clozapine and Gastrointestinal Effects',\n",
       "    '119. Clozapine and Obsessive-Compulsive Symptoms (OCS)'],\n",
       "   'item_indices': [104, 105, 106, 107, 108, 109, 110, 111, 112, 119]}]}"
      ]
     },
     "execution_count": 2,
     "metadata": {},
     "output_type": "execute_result"
    }
   ],
   "source": [
    "local_answers = {}\n",
    "database_name = \"Clozapine_OCS\"\n",
    "\n",
    "set_db_name(database_name)\n",
    "\n",
    "raw_answers = aggregate_themes()\n",
    "local_answers = process_LLM_output(raw_answers)\n",
    "\n",
    "local_answers"
   ]
  },
  {
   "cell_type": "code",
   "execution_count": 3,
   "metadata": {},
   "outputs": [
    {
     "data": {
      "text/plain": [
       "['Prevalence of Obsessive-Compulsive Symptoms (OCS) in Schizophrenia',\n",
       " 'Clozapine-Induced OCS Mechanism and Management',\n",
       " 'Clozapine and OCS Severity',\n",
       " 'Management of Clozapine-Associated OCS',\n",
       " 'Clozapine Treatment and Comorbidities',\n",
       " 'Assessing the Impact of OCS',\n",
       " 'General Topics on Obsessive-Compulsive Symptoms',\n",
       " 'Cognitive and Genetic Factors in OCS',\n",
       " 'Clinician Awareness and Recognition of OCS',\n",
       " 'Pharmacodynamics and Pharmacokinetics of Clozapine']"
      ]
     },
     "execution_count": 3,
     "metadata": {},
     "output_type": "execute_result"
    }
   ],
   "source": [
    "get_found_themes(local_answers)\n"
   ]
  },
  {
   "cell_type": "code",
   "execution_count": 5,
   "metadata": {},
   "outputs": [
    {
     "data": {
      "text/plain": [
       "[78, 80, 91, 122, 134, 155, 186]"
      ]
     },
     "execution_count": 5,
     "metadata": {},
     "output_type": "execute_result"
    }
   ],
   "source": [
    "find_item_indices(\"Clozapine-Induced OCS Mechanism and Management\", local_answers)"
   ]
  },
  {
   "cell_type": "code",
   "execution_count": 6,
   "metadata": {},
   "outputs": [
    {
     "name": "stdout",
     "output_type": "stream",
     "text": [
      "rows: [(78, '2012 - Schirmbeck et al. - Clozapine-Induced Obsessive-Compulsive Symptoms in Schizophrenia; A Critical Review.pdf', 'Clozapine-Induced Onset of Obsessive-Compulsive Symptoms', 'Several longitudinal observations report the de novo-onset of OCS under clozapine treatment, with prevalence rates ranging from 7% to 20.6% in recent-onset patients.', 'De Haan et al. [38] reported OCS development within several months after treatment initiation with CLZ in 20.6% of recent-onset patients.', 'Some studies report no increase in OCS prevalence in non-clozapine treated patients, suggesting that clozapine may be a necessary factor for OCS onset.', 'De Haan et al. (1999) Clozapine and obsessions in patients with recent-onset schizophrenia and other psychotic disorders. J. Clin. Psychiatry, 60(6), 364-365. DOI: 10.4088/JCP.v60n0604'), (78, '2012 - Schirmbeck et al. - Clozapine-Induced Obsessive-Compulsive Symptoms in Schizophrenia; A Critical Review.pdf', 'Clozapine-Induced Onset of Obsessive-Compulsive Symptoms', 'Several longitudinal observations report the de novo-onset of OCS under clozapine treatment, with prevalence rates ranging from 7% to 20.6% in recent-onset patients.', 'De Haan et al. [38] reported OCS development within several months after treatment initiation with CLZ in 20.6% of recent-onset patients.', 'Some studies report no increase in OCS prevalence in non-clozapine treated patients, suggesting that clozapine may be a necessary factor for OCS onset.', 'De Haan et al. (2004) Obsessive-compulsive disorder and treatment with clozapine in 200 patients with recent-onset schizophrenia or related disorders. Eur Psychiatry: J. Assoc. Eur. Psychiatrists, 19(8), 524. DOI: 10.1016/j.eurpsy.2004.04.002'), (80, '2012 - Schirmbeck et al. - Clozapine-Induced Obsessive-Compulsive Symptoms in Schizophrenia; A Critical Review.pdf', 'Pathogenetic Mechanisms of OCS Induction by Clozapine', 'Clozapine-induced OCS may be due to its strong inherent antiserotonergic properties, particularly the antagonism at 5-HT1C, 5-HT2A, and 5-HT2C receptors.', \"Meltzer et al. [35,36] suggest that clozapine's strong serotonergic properties play a crucial role in the development of OCS.\", 'There is ongoing debate about the exact mechanisms, with some arguing that other factors such as genetic predispositions and the subtype of schizophrenia might also influence the development of OCS.', 'Meltzer et al. (1995) Role of serotonin in the action of atypical antipsychotic drugs. Clin. Neurosci., 3(2), 64-75. DOI: 10.1007/BF02427728'), (80, '2012 - Schirmbeck et al. - Clozapine-Induced Obsessive-Compulsive Symptoms in Schizophrenia; A Critical Review.pdf', 'Pathogenetic Mechanisms of OCS Induction by Clozapine', 'Clozapine-induced OCS may be due to its strong inherent antiserotonergic properties, particularly the antagonism at 5-HT1C, 5-HT2A, and 5-HT2C receptors.', \"Meltzer et al. [35,36] suggest that clozapine's strong serotonergic properties play a crucial role in the development of OCS.\", 'There is ongoing debate about the exact mechanisms, with some arguing that other factors such as genetic predispositions and the subtype of schizophrenia might also influence the development of OCS.', 'Meltzer et al. (2003) Serotonin receptors: their key role in drugs to treat schizophrenia. Prog. Neuro-Psychopharmacol. Biol. Psychiatry, 27(7), 1159-1172. DOI: 10.1016/S0278-5846(03)00195-3'), (91, '2015 - Grover et al. - Relationship of obsessive compulsive symptomsdisorder with clozapine A retrospective study from a multispeciality tertiary care centre.pdf', 'Mechanism of Clozapine-Induced OCS/OCD', 'The mechanism of clozapine-induced and aggravation of OCS is considered to be related to its anti-serotonergic action and antagonism at 5-HT1C, 5-HT2A, and 5-HT2C receptors.', 'This theory is in line with the therapeutic effects of SSRI action as anti-obsessive medication.', 'There is no consensus on the exact mechanism, and other studies suggest additional mechanisms such as reciprocal interactions of clozapine with serotonergic receptors leading to altered glutamatergic neurotransmission.', 'Kang and Simpson (2010) Clozapine: more side effects but still the best antipsychotic. J. Psychiatry 71 (8), 982–983.'), (91, '2015 - Grover et al. - Relationship of obsessive compulsive symptomsdisorder with clozapine A retrospective study from a multispeciality tertiary care centre.pdf', 'Mechanism of Clozapine-Induced OCS/OCD', 'The mechanism of clozapine-induced and aggravation of OCS is considered to be related to its anti-serotonergic action and antagonism at 5-HT1C, 5-HT2A, and 5-HT2C receptors.', 'This theory is in line with the therapeutic effects of SSRI action as anti-obsessive medication.', 'There is no consensus on the exact mechanism, and other studies suggest additional mechanisms such as reciprocal interactions of clozapine with serotonergic receptors leading to altered glutamatergic neurotransmission.', 'Meltzer and Huang (2008) In vivo actions of atypical antipsychotic drug on serotonergic and dopaminergic systems. Prog. Brain Res. 172, 177–197.'), (91, '2015 - Grover et al. - Relationship of obsessive compulsive symptomsdisorder with clozapine A retrospective study from a multispeciality tertiary care centre.pdf', 'Mechanism of Clozapine-Induced OCS/OCD', 'The mechanism of clozapine-induced and aggravation of OCS is considered to be related to its anti-serotonergic action and antagonism at 5-HT1C, 5-HT2A, and 5-HT2C receptors.', 'This theory is in line with the therapeutic effects of SSRI action as anti-obsessive medication.', 'There is no consensus on the exact mechanism, and other studies suggest additional mechanisms such as reciprocal interactions of clozapine with serotonergic receptors leading to altered glutamatergic neurotransmission.', 'Lopez-Gil et al. (2010) Unraveling monoamine receptors involved in the action of typical and atypical antipsychotics on glutamatergic and serotonergic transmission in prefrontal cortex. Curr. Pharm. Des. 16 (5), 502–515.'), (122, '2016 - Leung and Palmer - Psychosis or Obsessions Clozapine Associated with Worsening Obsessive-Compulsive Symptoms.pdf', 'Clozapine-induced OCS Mechanism', 'Clozapine-induced OCS may be linked to 5HT2A receptor antagonism in key brain regions associated with OCD, including the anterior cingulate cortex, dorsal lateral prefrontal cortex, and orbitofrontal cortex.', 'M. R. Milad and S. L. Rauch (2012) suggest that 5HT2A receptor antagonism in specific brain regions contributes to OCD symptoms.', 'None explicitly reject this mechanism in the document.', 'Milad and Rauch (2012)'), (155, '2019 - Kim et al. - Clozapine-induced obsessive–compulsive symptoms mechanisms and treatment.pdf', \"Clozapine's Mechanism in Inducing OCS\", \"Clozapine's antiserosotoninergic effects, particularly through antagonism of 5-HT2A and 5-HT2C receptors, are potential causal factors for OCS, though the mechanism is complex and may involve region-specific effects.\", \"Clozapine's antiserosotoninergic effects, particularly through antagonism of 5-HT2A and 5-HT2C receptors, are potential causal factors for OCS.\", 'Evidence suggests that 5-HT2C receptor antagonists have beneficial effects in animal models of OCD, indicating a more complex mechanism.', 'Schirmbeck F, Esslinger C, Rausch F, et al. Antiserotonergic antipsychotics are associated with obsessive-compulsive symptoms in schizophrenia. Psychol Med. 2011;41:2361-73.'), (155, '2019 - Kim et al. - Clozapine-induced obsessive–compulsive symptoms mechanisms and treatment.pdf', \"Clozapine's Mechanism in Inducing OCS\", \"Clozapine's antiserosotoninergic effects, particularly through antagonism of 5-HT2A and 5-HT2C receptors, are potential causal factors for OCS, though the mechanism is complex and may involve region-specific effects.\", \"Clozapine's antiserosotoninergic effects, particularly through antagonism of 5-HT2A and 5-HT2C receptors, are potential causal factors for OCS.\", 'Evidence suggests that 5-HT2C receptor antagonists have beneficial effects in animal models of OCD, indicating a more complex mechanism.', 'Flaisher-Grinberg S, Klavir O, Joel D. The role of 5-HT2A and 5-HT2C receptors in the signal attenuation rat model of obsessive-compulsive disorder. Int J Neuropsychopharmacol. 2008;11:811-25.'), (186, '2021 - Gürcan et al. - Clinical risk factors, phenomenology and the impact of clozapine induced obsessive compulsive symptoms.pdf', 'Mechanisms of Clozapine-Induced OCS', \"Clozapine's antagonism on 5-HT2A and 5-HT2C receptors and high 5HT2A/D2 occupancy ratio are considered to be possible reasons for clozapine-induced OCS.\", 'Schirmbeck et al. (2011) showed that antiserotonergic antipsychotics are associated with obsessive-compulsive symptoms in schizophrenia.', 'Kim et al. (2019) suggested that polymorphisms in SLC1A1 and GRIN2B genes, related to glutamate transmission, were reported to be related to clozapine-induced OCS.', 'Schirmbeck, F., Esslinger, C., Rausch, F., Englisch, S., Meyer-Lindenberg, A., Zink, M. (2011). Antiserotonergic antipsychotics are associated with obsessive-compulsive symptoms in schizophrenia. Psychol. Med. 41, 2361–2373.'), (186, '2021 - Gürcan et al. - Clinical risk factors, phenomenology and the impact of clozapine induced obsessive compulsive symptoms.pdf', 'Mechanisms of Clozapine-Induced OCS', \"Clozapine's antagonism on 5-HT2A and 5-HT2C receptors and high 5HT2A/D2 occupancy ratio are considered to be possible reasons for clozapine-induced OCS.\", 'Schirmbeck et al. (2011) showed that antiserotonergic antipsychotics are associated with obsessive-compulsive symptoms in schizophrenia.', 'Kim et al. (2019) suggested that polymorphisms in SLC1A1 and GRIN2B genes, related to glutamate transmission, were reported to be related to clozapine-induced OCS.', 'Kim, D.D., Barr, A.M., White, R.F., Honer, W.G., Procyshyn, R.M. (2019). Clozapine-induced obsessive-compulsive symptoms: mechanisms and treatment. J. Psychiatry Neurosci. 44, 71–72.'), (134, '2020 - Kim et al. - Clozapine-Associated Obsessive-Compulsive Symptoms and Their Management A Systematic Review and Analysis of 107 Reported Cases.pdf', 'Mechanism of Clozapine-Induced OCS', \"Clozapine's high anti-serotonergic effects and relatively lower dopamine D2 receptor antagonism may contribute to the development of obsessive-compulsive symptoms (OCS).\", 'Lykouras et al. [3] reviewed reported cases of OCS induced by atypical antipsychotics, suggesting that serotonergic antagonism could be a contributing factor.', 'Fonseka et al. [5] reviewed the experimental literature on OCS induced by second-generation antipsychotics, noting that the exact mechanisms remain unclear.', None)]\n"
     ]
    }
   ],
   "source": [
    "content = get_theme_items_from_db(\"Clozapine-Induced OCS Mechanism and Management\", local_answers)"
   ]
  },
  {
   "cell_type": "code",
   "execution_count": 8,
   "metadata": {},
   "outputs": [
    {
     "data": {
      "text/plain": [
       "dict"
      ]
     },
     "execution_count": 8,
     "metadata": {},
     "output_type": "execute_result"
    }
   ],
   "source": [
    "type(content)"
   ]
  },
  {
   "cell_type": "code",
   "execution_count": 9,
   "metadata": {},
   "outputs": [
    {
     "name": "stdout",
     "output_type": "stream",
     "text": [
      "Clozapine-Induced Onset of Obsessive-Compulsive Symptoms\n",
      "Pathogenetic Mechanisms of OCS Induction by Clozapine\n",
      "Mechanism of Clozapine-Induced OCS/OCD\n",
      "Clozapine-induced OCS Mechanism\n",
      "Clozapine's Mechanism in Inducing OCS\n",
      "Mechanisms of Clozapine-Induced OCS\n",
      "Mechanism of Clozapine-Induced OCS\n"
     ]
    }
   ],
   "source": [
    "for sub_theme, packages in content.items():\n",
    "    print(sub_theme)\n"
   ]
  },
  {
   "cell_type": "code",
   "execution_count": null,
   "metadata": {},
   "outputs": [],
   "source": []
  }
 ],
 "metadata": {
  "kernelspec": {
   "display_name": ".venv",
   "language": "python",
   "name": "python3"
  },
  "language_info": {
   "codemirror_mode": {
    "name": "ipython",
    "version": 3
   },
   "file_extension": ".py",
   "mimetype": "text/x-python",
   "name": "python",
   "nbconvert_exporter": "python",
   "pygments_lexer": "ipython3",
   "version": "3.13.1"
  }
 },
 "nbformat": 4,
 "nbformat_minor": 2
}
